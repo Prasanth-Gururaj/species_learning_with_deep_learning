{
 "cells": [
  {
   "cell_type": "code",
   "execution_count": null,
   "id": "ab872908",
   "metadata": {},
   "outputs": [
    {
     "name": "stdout",
     "output_type": "stream",
     "text": [
      "Saved 'audio_1' with shape (128, 517)\n",
      "Saved 'audio_2' with shape (128, 517)\n",
      "Saved 'audio_3' with shape (128, 517)\n",
      "\n",
      "Inspecting D:/University_Course_Work/StatsML-2/Deeplearning/Practical_Home_Work/species_learning_with_deep_learning/Data/test_bird_spectrograms.hdf5:\n",
      "  audio_1: shape = (128, 517)\n",
      "  audio_2: shape = (128, 517)\n",
      "  audio_3: shape = (128, 517)\n"
     ]
    }
   ],
   "source": [
    "import librosa\n",
    "import librosa.display\n",
    "import numpy as np\n",
    "import h5py\n",
    "import matplotlib.pyplot as plt\n",
    "import os\n",
    "\n",
    "\n",
    "mp3_files = [\n",
    "    r\"D:/University_Course_Work/StatsML-2/Deeplearning/Practical_Home_Work/species_learning_with_deep_learning/Data/test1.mp3\",\n",
    "    r\"D:/University_Course_Work/StatsML-2/Deeplearning/Practical_Home_Work/species_learning_with_deep_learning/Data/test2.mp3\",\n",
    "    r\"D:/University_Course_Work/StatsML-2/Deeplearning/Practical_Home_Work/species_learning_with_deep_learning/Data/test3.mp3\"\n",
    "]\n",
    "\n",
    "output_h5 = r\"D:/University_Course_Work/StatsML-2/Deeplearning/Practical_Home_Work/species_learning_with_deep_learning/Data/test_bird_spectrograms.hdf5\"\n",
    "\n",
    "time_starts = {\n",
    "    mp3_files[0]: 7,\n",
    "    mp3_files[1]: 1,\n",
    "    mp3_files[2]: 6\n",
    "}\n",
    "\n",
    "\n",
    "hop_length = 512\n",
    "win_length = 2048\n",
    "sr = 22050\n",
    "target_width = 517  \n",
    "required_duration = (hop_length * (target_width - 1) + win_length) / sr \n",
    "\n",
    "def create_spectrogram(mp3_path, start_time, duration=12.1, max_width=517):\n",
    "    y, sr = librosa.load(mp3_path, offset=start_time, duration=duration)\n",
    "    S = librosa.feature.melspectrogram(\n",
    "        y=y, sr=sr, n_fft=win_length, hop_length=hop_length, n_mels=128\n",
    "    )\n",
    "    S_db = librosa.power_to_db(S, ref=np.max)\n",
    "   \n",
    "    if S_db.shape[1] > max_width:\n",
    "        S_db = S_db[:, :max_width]\n",
    "    return S_db \n",
    "\n",
    "def save_and_pad_spectrograms(mp3_files, time_starts, output_h5):\n",
    "    \"\"\"\n",
    "    Creates spectrograms, normalizes, pads/truncates to (128,517), saves to HDF5,\n",
    "    and then inspects each dataset shape.\n",
    "    \"\"\"\n",
    "    with h5py.File(output_h5, 'w') as h5f:\n",
    "\n",
    "        for idx, mp3 in enumerate(mp3_files):\n",
    "            spec = create_spectrogram(mp3, time_starts[mp3], duration=required_duration)\n",
    "\n",
    "            spec = (spec - spec.min()) / (spec.max() - spec.min())\n",
    " \n",
    "            h, w = spec.shape\n",
    "            if w < target_width:\n",
    "                spec = np.pad(spec, ((0,0),(0,target_width-w)), mode='constant')\n",
    "            else:\n",
    "                spec = spec[:, :target_width]\n",
    "            spec = spec.astype(np.float32)\n",
    "\n",
    "            name = f\"audio_{idx+1}\"\n",
    "            h5f.create_dataset(name, data=spec)\n",
    "            print(f\"Saved '{name}' with shape {spec.shape}\")\n",
    "\n",
    "\n",
    "    print(f\"\\nInspecting {output_h5}:\")\n",
    "    with h5py.File(output_h5, 'r') as h5f:\n",
    "        for name in h5f:\n",
    "            print(f\"  {name}: shape = {h5f[name][...].shape}\")\n",
    "\n",
    "\n",
    "save_and_pad_spectrograms(mp3_files, time_starts, output_h5)\n"
   ]
  },
  {
   "cell_type": "code",
   "execution_count": null,
   "id": "3e90259f",
   "metadata": {},
   "outputs": [],
   "source": []
  }
 ],
 "metadata": {
  "kernelspec": {
   "display_name": "class",
   "language": "python",
   "name": "python3"
  },
  "language_info": {
   "codemirror_mode": {
    "name": "ipython",
    "version": 3
   },
   "file_extension": ".py",
   "mimetype": "text/x-python",
   "name": "python",
   "nbconvert_exporter": "python",
   "pygments_lexer": "ipython3",
   "version": "3.9.21"
  }
 },
 "nbformat": 4,
 "nbformat_minor": 5
}
